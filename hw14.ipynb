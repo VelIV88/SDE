{
  "nbformat": 4,
  "nbformat_minor": 0,
  "metadata": {
    "colab": {
      "provenance": []
    },
    "kernelspec": {
      "name": "python3",
      "display_name": "Python 3"
    },
    "language_info": {
      "name": "python"
    }
  },
  "cells": [
    {
      "cell_type": "markdown",
      "source": [
        "## 1. Загрузка данных"
      ],
      "metadata": {
        "id": "N8258tGAP2ac"
      }
    },
    {
      "cell_type": "markdown",
      "source": [
        "##### 1.1 Создаём спарк сессию"
      ],
      "metadata": {
        "id": "LoOv3H8DQzfe"
      }
    },
    {
      "cell_type": "code",
      "source": [
        "from pyspark.sql import SparkSession\n",
        "from pyspark.sql.types import StructType, StructField, StringType, IntegerType\n",
        "from pyspark.sql.functions import col, count, desc, lit, sum, to_date\n",
        "\n",
        "spark = (\n",
        "    SparkSession\n",
        "      .builder\n",
        "      .appName(\"HomeWork\")\n",
        "      .master(\"local[*]\")\n",
        "      .getOrCreate()\n",
        "    )\n"
      ],
      "metadata": {
        "id": "JgrPEB5xJDZk"
      },
      "execution_count": 1,
      "outputs": []
    },
    {
      "cell_type": "markdown",
      "source": [
        "##### 1.2 Загружаем данные из csv файла"
      ],
      "metadata": {
        "id": "824DL5m_RBSA"
      }
    },
    {
      "cell_type": "code",
      "source": [
        "logsSchema = StructType([\n",
        "    StructField(\"ip\", StringType(), True),\n",
        "    StructField(\"timestamp\", StringType(), True),\n",
        "    StructField(\"method\", StringType(), True),\n",
        "    StructField(\"url\", StringType(), True),\n",
        "    StructField(\"response_code\", IntegerType(), True),\n",
        "    StructField(\"response_size\", IntegerType(), True),\n",
        "])\n",
        "\n",
        "logs = (\n",
        "    spark\n",
        "      .read\n",
        "      .csv(\"web_server_logs.csv\", header=True, schema=logsSchema)\n",
        "    )\n"
      ],
      "metadata": {
        "id": "BDOEf9GjhCZ7"
      },
      "execution_count": 2,
      "outputs": []
    },
    {
      "cell_type": "markdown",
      "source": [
        "##### 1.3 Выводим схему и пример загруженных данных"
      ],
      "metadata": {
        "id": "z0HDEDyeRI8k"
      }
    },
    {
      "cell_type": "code",
      "source": [
        "logs.printSchema()\n",
        "logs.show()"
      ],
      "metadata": {
        "colab": {
          "base_uri": "https://localhost:8080/"
        },
        "id": "MwsvR21ti028",
        "outputId": "f10a0b01-7ec1-4c5e-947b-9443437d5911"
      },
      "execution_count": 3,
      "outputs": [
        {
          "output_type": "stream",
          "name": "stdout",
          "text": [
            "root\n",
            " |-- ip: string (nullable = true)\n",
            " |-- timestamp: string (nullable = true)\n",
            " |-- method: string (nullable = true)\n",
            " |-- url: string (nullable = true)\n",
            " |-- response_code: integer (nullable = true)\n",
            " |-- response_size: integer (nullable = true)\n",
            "\n",
            "+---------------+--------------------+------+--------------------+-------------+-------------+\n",
            "|             ip|           timestamp|method|                 url|response_code|response_size|\n",
            "+---------------+--------------------+------+--------------------+-------------+-------------+\n",
            "|195.242.235.226|2024-03-26T20:25:...|   PUT|       tag/blog/tags|          200|         3172|\n",
            "|  11.206.37.195|2024-06-12T15:50:...|DELETE|          categories|          404|         6194|\n",
            "|211.115.160.255|2024-07-23T07:25:...|  POST|        posts/search|          404|         7607|\n",
            "|  78.65.249.139|2024-05-30T05:02:...|   GET|              search|          200|         9705|\n",
            "|  36.249.96.122|2024-01-04T00:35:...|   PUT|main/posts/wp-con...|          500|         7649|\n",
            "|  201.59.226.97|2024-07-18T10:25:...|DELETE|            tag/list|          200|         6139|\n",
            "| 173.232.88.225|2024-05-20T08:00:...|   PUT|list/posts/catego...|          500|         8023|\n",
            "| 178.31.134.162|2024-01-15T09:18:...|DELETE| main/tag/wp-content|          200|         1291|\n",
            "|   52.215.160.6|2024-05-16T17:11:...|   PUT|      main/tag/posts|          301|         7239|\n",
            "| 197.88.102.100|2024-04-18T09:39:...|DELETE|      blog/tag/posts|          500|         5949|\n",
            "| 203.10.244.201|2024-01-20T19:17:...|   GET|       tags/tags/tag|          500|          912|\n",
            "|214.231.142.112|2024-01-23T10:11:...|DELETE|categories/wp-con...|          404|         3015|\n",
            "|  212.35.121.32|2024-06-09T03:08:...|  POST|          posts/blog|          500|         6693|\n",
            "|   220.40.9.135|2024-05-27T18:19:...|DELETE|   category/category|          404|         4613|\n",
            "|113.235.233.111|2024-05-21T08:00:...|   GET|        app/list/tag|          200|         4404|\n",
            "|  93.150.42.196|2024-03-23T05:09:...|   PUT|       tag/tags/blog|          301|         7599|\n",
            "|182.150.182.242|2024-03-10T07:19:...|   PUT|       app/list/main|          500|         5435|\n",
            "| 140.55.239.237|2024-03-09T03:32:...|DELETE|                blog|          200|         6321|\n",
            "|   185.1.46.246|2024-06-13T12:11:...|  POST|             explore|          200|         3797|\n",
            "|  197.80.212.36|2024-05-31T18:37:...|   GET|            list/app|          500|         3117|\n",
            "+---------------+--------------------+------+--------------------+-------------+-------------+\n",
            "only showing top 20 rows\n",
            "\n"
          ]
        }
      ]
    },
    {
      "cell_type": "markdown",
      "source": [
        "## 2 Анализ данных"
      ],
      "metadata": {
        "id": "fiDK38aJRSoU"
      }
    },
    {
      "cell_type": "code",
      "source": [
        "print(\"Top 10 active IP adresses:\")\n",
        "(\n",
        "    logs\n",
        "      .groupBy(\"ip\")\n",
        "      .agg(count(\"*\").alias(\"request_count\"))\n",
        "      .orderBy(desc(\"request_count\"))\n",
        "      .limit(10)\n",
        ").show()\n",
        "\n",
        "\n",
        "print(\"Requests count by HTTP method:\")\n",
        "(\n",
        "    logs\n",
        "      .groupBy(\"method\")\n",
        "      .agg(count(\"*\").alias(\"method_count\"))\n",
        ").show()\n",
        "\n",
        "\n",
        "number_of_404_respose = (\n",
        "    logs\n",
        "      .where(col(\"response_code\") == lit(404))\n",
        "      .count()\n",
        ")\n",
        "print(f\"Number of 404 respose codes: {number_of_404_respose}\")\n",
        "\n",
        "print()\n",
        "\n",
        "print(\"Total response size by days:\")\n",
        "(\n",
        "    logs\n",
        "      .where(col(\"response_code\") == lit(404))\n",
        "      .withColumn(\"date\", to_date(\"timestamp\"))\n",
        "      .groupBy(\"date\")\n",
        "      .agg(sum(\"response_size\").alias(\"total_response_size\"))\n",
        "      .orderBy(\"date\")\n",
        ").show()"
      ],
      "metadata": {
        "id": "7DvCdA-EshMy",
        "colab": {
          "base_uri": "https://localhost:8080/"
        },
        "outputId": "bda00794-17ff-4a20-f037-78df77b7bce6"
      },
      "execution_count": 4,
      "outputs": [
        {
          "output_type": "stream",
          "name": "stdout",
          "text": [
            "Top 10 active IP adresses:\n",
            "+---------------+-------------+\n",
            "|             ip|request_count|\n",
            "+---------------+-------------+\n",
            "|  90.119.242.26|          130|\n",
            "| 29.249.247.181|          130|\n",
            "|  177.75.189.89|          127|\n",
            "|  30.14.191.240|          127|\n",
            "|  152.130.23.78|          127|\n",
            "|   214.41.169.9|          127|\n",
            "|100.148.130.254|          127|\n",
            "|  189.11.73.236|          126|\n",
            "|  184.241.37.42|          125|\n",
            "| 131.193.85.122|          124|\n",
            "+---------------+-------------+\n",
            "\n",
            "Requests count by HTTP method:\n",
            "+------+------------+\n",
            "|method|method_count|\n",
            "+------+------------+\n",
            "|  POST|       24967|\n",
            "|DELETE|       24814|\n",
            "|   PUT|       25191|\n",
            "|   GET|       25028|\n",
            "+------+------------+\n",
            "\n",
            "Number of 404 respose codes: 24853\n",
            "\n",
            "Total response size by days:\n",
            "+----------+-------------------+\n",
            "|      date|total_response_size|\n",
            "+----------+-------------------+\n",
            "|2024-01-01|             556153|\n",
            "|2024-01-02|             484234|\n",
            "|2024-01-03|             641478|\n",
            "|2024-01-04|             613918|\n",
            "|2024-01-05|             602342|\n",
            "|2024-01-06|             650306|\n",
            "|2024-01-07|             643629|\n",
            "|2024-01-08|             709632|\n",
            "|2024-01-09|             611795|\n",
            "|2024-01-10|             600717|\n",
            "|2024-01-11|             582645|\n",
            "|2024-01-12|             619061|\n",
            "|2024-01-13|             641000|\n",
            "|2024-01-14|             538187|\n",
            "|2024-01-15|             547926|\n",
            "|2024-01-16|             722588|\n",
            "|2024-01-17|             602531|\n",
            "|2024-01-18|             697477|\n",
            "|2024-01-19|             641899|\n",
            "|2024-01-20|             576719|\n",
            "+----------+-------------------+\n",
            "only showing top 20 rows\n",
            "\n"
          ]
        }
      ]
    },
    {
      "cell_type": "code",
      "source": [],
      "metadata": {
        "id": "Y_IxgdZ7hH6V"
      },
      "execution_count": 4,
      "outputs": []
    }
  ]
}